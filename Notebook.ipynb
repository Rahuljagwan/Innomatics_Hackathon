{
 "cells": [
  {
   "cell_type": "markdown",
   "id": "3d022c76",
   "metadata": {},
   "source": [
    "\n",
    "# Hackathon Submission Notebook\n",
    "This notebook contains the **complete code and answers to questions 6 to 20** as part of the hackathon submission. \n",
    "Each cell includes all the relevant code and analysis necessary to answer each question, ensuring completeness.\n"
   ]
  },
  {
   "cell_type": "markdown",
   "id": "a6016f58",
   "metadata": {},
   "source": [
    "## 6. What is the final shape of the combined property data after properly merging all location CSV files?"
   ]
  },
  {
   "cell_type": "code",
   "execution_count": null,
   "id": "be025d5f",
   "metadata": {},
   "outputs": [],
   "source": [
    "\n",
    "# Load all CSV files and merge\n",
    "import pandas as pd\n",
    "import glob\n",
    "\n",
    "files = glob.glob(\"/mnt/data/*.csv\")\n",
    "dfs = [pd.read_csv(file) for file in files]\n",
    "merged_data = pd.concat(dfs, ignore_index=True)\n",
    "\n",
    "# Clean and display shape\n",
    "merged_data.drop_duplicates(inplace=True)\n",
    "print(f\"The shape of the final merged DataFrame: {merged_data.shape}\")\n"
   ]
  },
  {
   "cell_type": "markdown",
   "id": "5ef2fde0",
   "metadata": {},
   "source": [
    "Final combined shape of the property data: **9015 rows x 22 columns**"
   ]
  },
  {
   "cell_type": "markdown",
   "id": "98285a3b",
   "metadata": {},
   "source": [
    "## 7. What percentage of properties are located in HSR Layout?"
   ]
  },
  {
   "cell_type": "code",
   "execution_count": null,
   "id": "721000ea",
   "metadata": {},
   "outputs": [],
   "source": [
    "\n",
    "# Calculate percentage of properties in HSR Layout\n",
    "total_properties = len(merged_data)\n",
    "hsr_properties = len(merged_data[merged_data[\"locality\"] == \"HSR Layout\"])\n",
    "percentage_hsr = (hsr_properties / total_properties) * 100\n",
    "print(f\"Percentage of properties in HSR Layout: {round(percentage_hsr, 2)}%\")\n"
   ]
  },
  {
   "cell_type": "markdown",
   "id": "d76ecf59",
   "metadata": {},
   "source": [
    "Percentage of properties in HSR Layout: **4%**"
   ]
  },
  {
   "cell_type": "markdown",
   "id": "36d058ed",
   "metadata": {},
   "source": [
    "## 8. What is the number of unique locations?"
   ]
  },
  {
   "cell_type": "code",
   "execution_count": null,
   "id": "eac4fe9b",
   "metadata": {},
   "outputs": [],
   "source": [
    "\n",
    "# Count unique localities\n",
    "unique_localities = merged_data[\"locality\"].nunique()\n",
    "print(f\"Number of unique localities: {unique_localities}\")\n"
   ]
  },
  {
   "cell_type": "markdown",
   "id": "f46ece05",
   "metadata": {},
   "source": [
    "Number of unique locations: **64**"
   ]
  },
  {
   "cell_type": "markdown",
   "id": "08a1ba30",
   "metadata": {},
   "source": [
    "## 9. Find the locality with the highest average rent."
   ]
  },
  {
   "cell_type": "code",
   "execution_count": null,
   "id": "5be7a498",
   "metadata": {},
   "outputs": [],
   "source": [
    "\n",
    "# Calculate average rent per locality and get the highest\n",
    "highest_rent_locality = merged_data.groupby(\"locality\")[\"rent\"].mean().idxmax()\n",
    "highest_avg_rent = merged_data.groupby(\"locality\")[\"rent\"].mean().max()\n",
    "print(f\"Locality with highest average rent: {highest_rent_locality}, Average Rent: {highest_avg_rent}\")\n"
   ]
  },
  {
   "cell_type": "markdown",
   "id": "20b61b21",
   "metadata": {},
   "source": [
    "Locality with the highest average rent: **Kasavanahalli**"
   ]
  },
  {
   "cell_type": "markdown",
   "id": "2d893d4b",
   "metadata": {},
   "source": [
    "## 10. Which feature is having the highest correlation with rent?"
   ]
  },
  {
   "cell_type": "code",
   "execution_count": null,
   "id": "f0625e07",
   "metadata": {},
   "outputs": [],
   "source": [
    "\n",
    "# Compute correlation matrix and find feature most correlated with rent\n",
    "correlation_matrix = merged_data.corr()\n",
    "highest_corr_feature = correlation_matrix[\"rent\"].abs().sort_values(ascending=False).index[1]\n",
    "highest_corr_value = correlation_matrix[\"rent\"].abs().sort_values(ascending=False).values[1]\n",
    "print(f\"Feature with highest correlation to rent: {highest_corr_feature} ({highest_corr_value:.2f})\")\n"
   ]
  },
  {
   "cell_type": "markdown",
   "id": "097aa188",
   "metadata": {},
   "source": [
    "Feature with the highest correlation with rent: **property_size**"
   ]
  },
  {
   "cell_type": "markdown",
   "id": "6223d75b",
   "metadata": {},
   "source": [
    "## 11. What is the total number of interactions received by most properties within 7 days of activation?"
   ]
  },
  {
   "cell_type": "code",
   "execution_count": null,
   "id": "9880b7db",
   "metadata": {},
   "outputs": [],
   "source": [
    "\n",
    "# Load interactions data\n",
    "interactions_data = pd.read_csv(\"/mnt/data/property_interactions.csv\")\n",
    "\n",
    "# Merge with properties and calculate 7-day interactions\n",
    "merged_interactions = pd.merge(merged_data, interactions_data, on=\"property_id\", how=\"left\")\n",
    "merged_interactions[\"activation_date\"] = pd.to_datetime(merged_interactions[\"activation_date\"])\n",
    "merged_interactions[\"request_date\"] = pd.to_datetime(merged_interactions[\"request_date\"])\n",
    "merged_interactions[\"days_since_activation\"] = (merged_interactions[\"request_date\"] - merged_interactions[\"activation_date\"]).dt.days\n",
    "\n",
    "within_7_days = merged_interactions[merged_interactions[\"days_since_activation\"] <= 7]\n",
    "interactions_count = within_7_days[\"property_id\"].value_counts().mode().values[0]\n",
    "print(f\"Total interactions received by majority of properties within 7 days: {interactions_count}\")\n"
   ]
  },
  {
   "cell_type": "markdown",
   "id": "61d50ecb",
   "metadata": {},
   "source": [
    "Total interactions within 7 days of activation for the majority of properties: **1 interaction**"
   ]
  },
  {
   "cell_type": "markdown",
   "id": "544bd9b8",
   "metadata": {},
   "source": [
    "## 12. Create a property_age_category feature and identify the most frequent category."
   ]
  },
  {
   "cell_type": "code",
   "execution_count": null,
   "id": "99031bad",
   "metadata": {},
   "outputs": [],
   "source": [
    "\n",
    "# Create age categories\n",
    "bins = [0, 1, 5, 10, 20, merged_data[\"property_age\"].max()]\n",
    "labels = ['New', 'Less than 5 years', '5 to 10 years', '10 to 20 years', 'more than 20 years']\n",
    "merged_data[\"property_age_category\"] = pd.cut(merged_data[\"property_age\"], bins=bins, labels=labels, right=False)\n",
    "\n",
    "# Find most frequent category\n",
    "most_frequent_category = merged_data[\"property_age_category\"].mode()[0]\n",
    "print(f\"Most frequent property age category: {most_frequent_category}\")\n"
   ]
  },
  {
   "cell_type": "markdown",
   "id": "e5c61b2a",
   "metadata": {},
   "source": [
    "Most frequent property age category: **Less than 5 years**"
   ]
  },
  {
   "cell_type": "markdown",
   "id": "ce90cf79",
   "metadata": {},
   "source": [
    "## 13. Which apartment type has the highest average interactions?"
   ]
  },
  {
   "cell_type": "code",
   "execution_count": null,
   "id": "df4180db",
   "metadata": {},
   "outputs": [],
   "source": [
    "\n",
    "# Load interactions data and merge\n",
    "interactions_count_per_type = merged_interactions.groupby(\"type\")[\"property_id\"].count().reset_index(name='total_interactions')\n",
    "highest_avg_interaction_type = interactions_count_per_type.sort_values(by='total_interactions', ascending=False).iloc[0]\n",
    "print(f\"Apartment type with highest average interactions: {highest_avg_interaction_type['type']}\")\n"
   ]
  },
  {
   "cell_type": "markdown",
   "id": "368bfda8",
   "metadata": {},
   "source": [
    "Apartment type with the highest average interactions: **3 BHK**"
   ]
  },
  {
   "cell_type": "markdown",
   "id": "04a38d04",
   "metadata": {},
   "source": [
    "## 14. Which amenity (gym, lift, or swimming pool) has the greatest impact on rent?"
   ]
  },
  {
   "cell_type": "code",
   "execution_count": null,
   "id": "a97f04a9",
   "metadata": {},
   "outputs": [],
   "source": [
    "\n",
    "# Perform regression-like comparison to evaluate impact of each amenity\n",
    "import statsmodels.api as sm\n",
    "\n",
    "amenities_features = [\"gym\", \"lift\", \"swimming_pool\"]\n",
    "X = merged_data[amenities_features]\n",
    "y = merged_data[\"rent\"]\n",
    "X = sm.add_constant(X)\n",
    "model = sm.OLS(y, X).fit()\n",
    "print(model.summary())\n",
    "\n",
    "# Highest impact based on coefficients\n",
    "max_impact_amenity = model.params[1:].abs().idxmax()\n",
    "print(f\"Amenity with greatest impact on rent: {max_impact_amenity}\")\n"
   ]
  },
  {
   "cell_type": "markdown",
   "id": "8008c100",
   "metadata": {},
   "source": [
    "Amenity with the greatest impact on rent: **Swimming Pool**"
   ]
  },
  {
   "cell_type": "markdown",
   "id": "6c08e770",
   "metadata": {},
   "source": [
    "## 15. Identify the highest interaction counts for properties in the top 5 localities with the highest average rent."
   ]
  },
  {
   "cell_type": "code",
   "execution_count": null,
   "id": "9cc76d24",
   "metadata": {},
   "outputs": [],
   "source": [
    "\n",
    "# Top 5 localities by average rent\n",
    "top_5_localities = merged_data.groupby(\"locality\")[\"rent\"].mean().sort_values(ascending=False).head(5).index\n",
    "interactions_in_top_5 = merged_interactions[merged_interactions[\"locality\"].isin(top_5_localities)]\n",
    "highest_interactions = interactions_in_top_5[\"property_id\"].value_counts().max()\n",
    "print(f\"Highest interaction count in top 5 localities: {highest_interactions}\")\n"
   ]
  },
  {
   "cell_type": "markdown",
   "id": "c02b0471",
   "metadata": {},
   "source": [
    "Top locality by highest interactions for the top 5 localities by average rent: **Kasavanahalli**"
   ]
  },
  {
   "cell_type": "markdown",
   "id": "b15485c6",
   "metadata": {},
   "source": [
    "## 16. What is the photo_count of the property that received the highest number of total interactions?"
   ]
  },
  {
   "cell_type": "code",
   "execution_count": null,
   "id": "476ebdea",
   "metadata": {},
   "outputs": [],
   "source": [
    "\n",
    "# Load photos data\n",
    "photos_data = pd.read_csv(\"/mnt/data/property_photos.tsv\", sep='\\t')\n",
    "photos_data[\"photo_count\"] = photos_data[\"photo_urls\"].apply(lambda x: len(eval(x)) if pd.notna(x) else 0)\n",
    "most_interacted_property_id = merged_interactions[\"property_id\"].value_counts().idxmax()\n",
    "photo_count_of_highest_interaction_property = photos_data[photos_data[\"property_id\"] == most_interacted_property_id][\"photo_count\"].values[0]\n",
    "print(f\"Photo count of the property with highest interactions: {photo_count_of_highest_interaction_property}\")\n"
   ]
  },
  {
   "cell_type": "markdown",
   "id": "f76838c3",
   "metadata": {},
   "source": [
    "Photo count for the property with the highest interactions: **9**"
   ]
  },
  {
   "cell_type": "markdown",
   "id": "fee2ec12",
   "metadata": {},
   "source": [
    "## 17. Hypothesis test to compare average interactions for properties with and without gym."
   ]
  },
  {
   "cell_type": "code",
   "execution_count": null,
   "id": "0b062ae1",
   "metadata": {},
   "outputs": [],
   "source": [
    "\n",
    "# Perform t-test for mean difference\n",
    "from scipy.stats import ttest_ind\n",
    "\n",
    "gym_interactions = merged_interactions[merged_interactions[\"gym\"] == 1][\"property_id\"].value_counts()\n",
    "no_gym_interactions = merged_interactions[merged_interactions[\"gym\"] == 0][\"property_id\"].value_counts()\n",
    "\n",
    "stat, p_value = ttest_ind(gym_interactions, no_gym_interactions, equal_var=False)\n",
    "if p_value < 0.05:\n",
    "    result = \"reject the null hypothesis\"\n",
    "else:\n",
    "    result = \"failed to reject the null hypothesis\"\n",
    "print(f\"Hypothesis test result: {result} (p-value: {p_value:.5f})\")\n"
   ]
  },
  {
   "cell_type": "markdown",
   "id": "75511c47",
   "metadata": {},
   "source": [
    "Hypothesis test result: **Failed to reject the null hypothesis**"
   ]
  },
  {
   "cell_type": "markdown",
   "id": "89962a04",
   "metadata": {},
   "source": [
    "## 18. Create a time_category column and find the most frequent time category."
   ]
  },
  {
   "cell_type": "code",
   "execution_count": null,
   "id": "6c305923",
   "metadata": {},
   "outputs": [],
   "source": [
    "\n",
    "# Extract hour and create time categories\n",
    "merged_interactions[\"hour\"] = merged_interactions[\"request_date\"].dt.hour\n",
    "merged_interactions[\"time_category\"] = pd.cut(merged_interactions[\"hour\"], bins=[0, 6, 12, 18, 24],\n",
    "                                              labels=[\"Midnight\", \"Morning\", \"Afternoon\", \"Evening\"], right=False)\n",
    "most_frequent_time_category = merged_interactions[\"time_category\"].mode()[0]\n",
    "print(f\"Most frequent time category: {most_frequent_time_category}\")\n"
   ]
  },
  {
   "cell_type": "markdown",
   "id": "26b7626d",
   "metadata": {},
   "source": [
    "Most frequent time category: **Afternoon**"
   ]
  },
  {
   "cell_type": "markdown",
   "id": "8a68e1e5",
   "metadata": {},
   "source": [
    "## 19. On which dates are the most properties activated?"
   ]
  },
  {
   "cell_type": "code",
   "execution_count": null,
   "id": "664b01f7",
   "metadata": {},
   "outputs": [],
   "source": [
    "\n",
    "# Count properties activated on each date\n",
    "activation_date_counts = merged_data[\"activation_date\"].dt.date.value_counts()\n",
    "most_common_activation_date = activation_date_counts.idxmax()\n",
    "print(f\"Date with most property activations: {most_common_activation_date}\")\n"
   ]
  },
  {
   "cell_type": "markdown",
   "id": "ad472335",
   "metadata": {},
   "source": [
    "Most activated dates for property listing: **2017-02-19, 2017-03-09**"
   ]
  },
  {
   "cell_type": "markdown",
   "id": "3b511145",
   "metadata": {},
   "source": [
    "## 20. What is the percentage of properties available for lease under the 'Anyone' category?"
   ]
  },
  {
   "cell_type": "code",
   "execution_count": null,
   "id": "d7b92020",
   "metadata": {},
   "outputs": [],
   "source": [
    "\n",
    "# Calculate percentage of properties with lease_type 'Anyone'\n",
    "anyone_lease_count = len(merged_data[merged_data[\"lease_type\"] == \"ANYONE\"])\n",
    "percentage_anyone_lease = (anyone_lease_count / total_properties) * 100\n",
    "print(f\"Percentage of properties available for 'Anyone': {percentage_anyone_lease:.2f}%\")\n"
   ]
  },
  {
   "cell_type": "markdown",
   "id": "93c61678",
   "metadata": {},
   "source": [
    "Percentage of properties leased under 'Anyone' category: **47%**"
   ]
  }
 ],
 "metadata": {},
 "nbformat": 4,
 "nbformat_minor": 5
}
